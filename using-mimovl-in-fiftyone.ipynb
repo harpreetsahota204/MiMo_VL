{
 "cells": [
  {
   "cell_type": "markdown",
   "id": "7c159c07",
   "metadata": {},
   "source": [
    "# MiMo-VL Tutorial: Multimodal Analysis with FiftyOne\n",
    "\n",
    "This tutorial demonstrates how to use the MiMo-VL vision-language models with FiftyOne for various visual understanding tasks.\n",
    "\n",
    "## 1. Load a Sample Dataset\n",
    "\n",
    "First, let's load a small UI dataset from the FiftyOne Dataset Zoo."
   ]
  },
  {
   "cell_type": "code",
   "execution_count": null,
   "id": "51d9d6ba",
   "metadata": {},
   "outputs": [],
   "source": [
    "import fiftyone as fo\n",
    "from fiftyone.utils.huggingface import load_from_hub\n",
    "\n",
    "# Load 5 random samples from the WaveUI dataset\n",
    "dataset = load_from_hub(\n",
    "    \"Voxel51/WaveUI-25k\",\n",
    "    max_samples=10,\n",
    "    shuffle=True\n",
    ")"
   ]
  },
  {
   "cell_type": "markdown",
   "id": "bac89947",
   "metadata": {},
   "source": [
    "Launch the FiftyOne App to visualize the dataset (optional)"
   ]
  },
  {
   "cell_type": "code",
   "execution_count": null,
   "id": "d37ca651",
   "metadata": {},
   "outputs": [],
   "source": [
    "fo.launch_app(dataset)"
   ]
  },
  {
   "cell_type": "markdown",
   "id": "9065f657",
   "metadata": {},
   "source": [
    "## 2. Set Up MiMo-VL Integration\n",
    "\n",
    "Register the MiMo-VL remote zoo model source and load the model."
   ]
  },
  {
   "cell_type": "code",
   "execution_count": null,
   "id": "710ffc9b",
   "metadata": {
    "lines_to_next_cell": 2
   },
   "outputs": [],
   "source": [
    "import fiftyone.zoo as foz\n",
    "\n",
    "# Register the model source\n",
    "foz.register_zoo_model_source(\"https://github.com/harpreetsahota204/MiMo_VL\", overwrite=True)"
   ]
  },
  {
   "cell_type": "markdown",
   "id": "f80e0985",
   "metadata": {},
   "source": [
    "# Load the MiMo-VL-7B-SFT model\n",
    "\n",
    "You can also use `XiaomiMiMo/MiMo-VL-7B-RL` or `XiaomiMiMo/MiMo-VL-7B-SFT-GGUF`"
   ]
  },
  {
   "cell_type": "code",
   "execution_count": null,
   "id": "96097cf9",
   "metadata": {},
   "outputs": [],
   "source": [
    "model = foz.load_zoo_model(\n",
    "    \"XiaomiMiMo/MiMo-VL-7B-SFT\",\n",
    "    # install_requirements=True, #you can pass this to make sure you have all reqs installed\n",
    "    )"
   ]
  },
  {
   "cell_type": "markdown",
   "id": "9e560cee",
   "metadata": {},
   "source": [
    "## 3. Visual Question Answering\n",
    "\n",
    "Ask the model to describe UI screenshots."
   ]
  },
  {
   "cell_type": "code",
   "execution_count": null,
   "id": "2214375e",
   "metadata": {},
   "outputs": [],
   "source": [
    "model.operation = \"vqa\"\n",
    "model.prompt = \"Describe this screenshot and what the user might be doing in it.\"\n",
    "dataset.apply_model(model, label_field=\"vqa_results\")"
   ]
  },
  {
   "cell_type": "markdown",
   "id": "a16da702",
   "metadata": {},
   "source": [
    "Note that for any of the following operations you can use a Field which currently exists on your dataset, all you need to do is pass the name of that field in `prompt_field` when you call `apply_model`. For example:\n",
    "\n",
    "```python\n",
    "dataset.apply_model(model, prompt_field=\"<field-name>\", label_field=\"<label-field>\")\n",
    "```"
   ]
  },
  {
   "cell_type": "markdown",
   "id": "b9cb6815",
   "metadata": {},
   "source": [
    "## 4. Object Detection\n",
    "\n",
    "Detect interactive UI elements with bounding boxes."
   ]
  },
  {
   "cell_type": "code",
   "execution_count": null,
   "id": "29ee7864",
   "metadata": {},
   "outputs": [],
   "source": [
    "model.operation = \"detect\"\n",
    "model.prompt = \"Locate the elements of this UI that a user can interact with.\"\n",
    "dataset.apply_model(model, label_field=\"ui_detections\")\n"
   ]
  },
  {
   "cell_type": "markdown",
   "id": "39776eb2",
   "metadata": {},
   "source": [
    "## 5. Optical Character Recognition (OCR)\n",
    "\n",
    "Extract and locate text in the UI."
   ]
  },
  {
   "cell_type": "code",
   "execution_count": null,
   "id": "3bb7e474",
   "metadata": {},
   "outputs": [],
   "source": [
    "model.operation = \"ocr\"\n",
    "model.prompt = \"OCR all the text in the user interface.\"\n",
    "dataset.apply_model(model, label_field=\"ocr_results\")"
   ]
  },
  {
   "cell_type": "markdown",
   "id": "e22e469d",
   "metadata": {},
   "source": [
    "\n",
    "## 6. Keypoint Detection\n",
    "\n",
    "Identify important points in the UI."
   ]
  },
  {
   "cell_type": "code",
   "execution_count": null,
   "id": "33539c1e",
   "metadata": {},
   "outputs": [],
   "source": [
    "model.operation = \"point\"\n",
    "model.prompt = \"Point to all the clickable and interactable elements in user interface.\"\n",
    "dataset.apply_model(model, label_field=\"ui_keypoints\")"
   ]
  },
  {
   "cell_type": "markdown",
   "id": "44e5912a",
   "metadata": {},
   "source": [
    "## 7. Classification\n",
    "\n",
    "Classify the type of UI platform."
   ]
  },
  {
   "cell_type": "code",
   "execution_count": null,
   "id": "0b254fa2",
   "metadata": {},
   "outputs": [],
   "source": [
    "model.operation = \"classify\"\n",
    "model.prompt = \"Classify the type of platform. Choose from one of: desktop, mobile, web\"\n",
    "dataset.apply_model(model, label_field=\"ui_classifications\")\n"
   ]
  },
  {
   "cell_type": "markdown",
   "id": "7acbf743",
   "metadata": {},
   "source": [
    "## 8. Using Dataset Fields as Prompts\n",
    "\n",
    "You can use existing fields in your dataset as prompts.\n",
    "In this example, we assume there's a \"purpose\" field that contains instructions."
   ]
  },
  {
   "cell_type": "code",
   "execution_count": null,
   "id": "9fc9c157",
   "metadata": {},
   "outputs": [],
   "source": [
    "# If your dataset has a field called \"purpose\" with instructions\n",
    "model.operation = \"agentic\"\n",
    "dataset.apply_model(model, prompt_field=\"purpose\", label_field=\"agentic_output\")"
   ]
  },
  {
   "cell_type": "markdown",
   "id": "001f52c6",
   "metadata": {},
   "source": [
    "## 9. View Results\n",
    "\n",
    "Examine the results for the first sample."
   ]
  },
  {
   "cell_type": "code",
   "execution_count": null,
   "id": "c10cc0b5",
   "metadata": {
    "lines_to_next_cell": 2
   },
   "outputs": [],
   "source": [
    "\n",
    "\n",
    "sample = dataset.first()\n",
    "print(f\"VQA Result: {sample.vqa_results}\")\n",
    "print(f\"Detections: {sample.ui_detections}\")\n",
    "# You can view all results in the FiftyOne App with: fo.launch_app(dataset)"
   ]
  },
  {
   "cell_type": "code",
   "execution_count": null,
   "id": "89bdf076",
   "metadata": {},
   "outputs": [],
   "source": [
    "# Visualize all results in the FiftyOne App\n",
    "fo.launch_app(dataset)"
   ]
  }
 ],
 "metadata": {
  "jupytext": {
   "cell_metadata_filter": "-all",
   "main_language": "python",
   "notebook_metadata_filter": "-all"
  },
  "kernelspec": {
   "display_name": "fo_develop",
   "language": "python",
   "name": "python3"
  },
  "language_info": {
   "name": "python",
   "version": "3.11.8"
  }
 },
 "nbformat": 4,
 "nbformat_minor": 5
}
